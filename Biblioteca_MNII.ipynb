{
 "cells": [
  {
   "cell_type": "markdown",
   "metadata": {},
   "source": [
    "# Biblioteca Métodos Numéricos II."
   ]
  },
  {
   "cell_type": "code",
   "execution_count": 1,
   "metadata": {},
   "outputs": [
    {
     "name": "stdout",
     "output_type": "stream",
     "text": [
      "Populating the interactive namespace from numpy and matplotlib\n"
     ]
    }
   ],
   "source": [
    "# Importamos las bibliotecas necesarias para nuestros ejercicios.\n",
    "from Biblioteca_MNII import * \n",
    "from scipy.integrate import quad, odeint\n",
    "import scipy.special as spl \n",
    "from sympy import symbols, init_printing, expand\n",
    "init_printing()\n",
    "%pylab inline"
   ]
  },
  {
   "cell_type": "markdown",
   "metadata": {},
   "source": [
    "## Tema 2: Interpolación."
   ]
  },
  {
   "cell_type": "markdown",
   "metadata": {},
   "source": [
    "### Sea $f: \\left[2.5,7.5\\right] \\rightarrow R$, definida como $f(x) = \\frac{2sen(x)}{x^2} + cos(x)$.\n",
    "\n",
    "### Calcular una cota para el error de interpolación de la función cuando se toman 4 nodos y hallar una expresión del polinomio de interpolación de Lagrange y de Newton de la función para dichos nodos. "
   ]
  },
  {
   "cell_type": "markdown",
   "metadata": {},
   "source": [
    "Calculamos la derivada 4-ésima de la función."
   ]
  },
  {
   "cell_type": "markdown",
   "metadata": {},
   "source": [
    "En este caso ya que la función es \n",
    "$$\n",
    "f(x) = \\frac{2sen(x)}{x^2} + cos(x)\n",
    "$$\n",
    "\n",
    "\n",
    "Tenemos que su derivada 4-ésima es \n",
    "\n",
    "\n",
    "$$f^{(4)}(x) = \\frac{(2x^4 - 72x^2 + 240) sin(x) + (x^6 + 16x^3 - 192x)cos(x)}{x^6}$$"
   ]
  },
  {
   "cell_type": "code",
   "execution_count": 2,
   "metadata": {},
   "outputs": [],
   "source": [
    "#Definimos los extremos del intervalo.\n",
    "a = 5/2\n",
    "b = 15/2\n",
    "\n",
    "#Definimos la función y su derivada 4-ésima.\n",
    "f = lambda x: (2*np.sin(x))/x**2 + np.cos(x)\n",
    "dnf = lambda x: ((2*x**4 - 72*x**2 + 240)*np.sin(x) + (x**6 + 16*x**3 - 192*x)*np.cos(x))/x**6"
   ]
  },
  {
   "cell_type": "markdown",
   "metadata": {},
   "source": [
    "Inicializamos interpolación con los datos del problema:\n",
    "\n",
    "$a = 2.5$ , $b = 7.5$ , \n",
    "\n",
    "$f = f(x) = \\frac{2sen(x)}{x^2} + cos(x)$, \n",
    "\n",
    "$dnf = f^{(4)}(x) = \\frac{(2x^4 - 72x^2 + 240)sen(x) + (x^6 + 16x^3 - 192x)cos(x)}{x^6}$ \n",
    "\n",
    "$n = 4$."
   ]
  },
  {
   "cell_type": "markdown",
   "metadata": {},
   "source": [
    "Calculamos la cota del error con la función $ErrorInter$ de nuestra biblioteca."
   ]
  },
  {
   "cell_type": "code",
   "execution_count": 3,
   "metadata": {},
   "outputs": [],
   "source": [
    "Itp = Interpolacion(f = f, dnf = dnf, a = a, b = b, n = 4)"
   ]
  },
  {
   "cell_type": "code",
   "execution_count": 4,
   "metadata": {},
   "outputs": [
    {
     "name": "stdout",
     "output_type": "stream",
     "text": [
      "No se ha definido los nodos\n",
      "La cota es:  27.211371764187376\n"
     ]
    }
   ],
   "source": [
    "Cota = Itp.ErrorInter()\n",
    "print('La cota es: ',Cota)"
   ]
  },
  {
   "cell_type": "markdown",
   "metadata": {},
   "source": [
    "Ahora vamos ha comprobar que las funciones $InterLagrange$ y $InterNewton$ calculan el polinomio de interpolación correctamente y dichos polinomios cumplen la cota.\n",
    "Para ello primero vamos a usar las funciones mencionadas para calcular la expresión del polinomio."
   ]
  },
  {
   "cell_type": "code",
   "execution_count": 5,
   "metadata": {},
   "outputs": [
    {
     "data": {
      "image/png": "[encoded data removed]",
      "text/latex": [
       "$$\\left [ - 0.125559086246532 x^{3} + 1.83954756661399 x^{2} - 7.99587611709836 x + 9.84474619457686\\right ]$$"
      ],
      "text/plain": [
       "⎡                     3                     2                                 \n",
       "⎣- 0.125559086246532⋅x  + 1.83954756661399⋅x  - 7.99587611709836⋅x + 9.8447461\n",
       "\n",
       "       ⎤\n",
       "9457686⎦"
      ]
     },
     "execution_count": 5,
     "metadata": {},
     "output_type": "execute_result"
    }
   ],
   "source": [
    "Itp.InterLagrange()"
   ]
  },
  {
   "cell_type": "code",
   "execution_count": 6,
   "metadata": {},
   "outputs": [
    {
     "data": {
      "image/png": "[encoded data removed]",
      "text/latex": [
       "$$\\left [ - 0.125559086246532 x^{3} + 1.83954756661399 x^{2} - 7.99587611709836 x + 9.84474619457686\\right ]$$"
      ],
      "text/plain": [
       "⎡                     3                     2                                 \n",
       "⎣- 0.125559086246532⋅x  + 1.83954756661399⋅x  - 7.99587611709836⋅x + 9.8447461\n",
       "\n",
       "       ⎤\n",
       "9457686⎦"
      ]
     },
     "execution_count": 6,
     "metadata": {},
     "output_type": "execute_result"
    }
   ],
   "source": [
    "Itp.InterNewton()"
   ]
  },
  {
   "cell_type": "markdown",
   "metadata": {},
   "source": [
    "Ahora definamos la funciones para el polinomio de Lagrange y de Newton, usaremos la misma ya que los dos interpoladores son iguales."
   ]
  },
  {
   "cell_type": "code",
   "execution_count": 7,
   "metadata": {},
   "outputs": [],
   "source": [
    "I = lambda x:  - 0.125559086246532*x**3 + 1.83954756661399*x**2 - 7.99587611709836*x + 9.84474619457686"
   ]
  },
  {
   "cell_type": "markdown",
   "metadata": {},
   "source": [
    "Definimos una la función diferencia de $f$ menos el polinomio de interpolación correspondiente. "
   ]
  },
  {
   "cell_type": "code",
   "execution_count": 8,
   "metadata": {},
   "outputs": [],
   "source": [
    "DI = lambda x: f(x) - I(x)"
   ]
  },
  {
   "cell_type": "markdown",
   "metadata": {},
   "source": [
    "Por ultimo calculamos la norma infinito de las diferencias."
   ]
  },
  {
   "cell_type": "code",
   "execution_count": 9,
   "metadata": {},
   "outputs": [
    {
     "name": "stdout",
     "output_type": "stream",
     "text": [
      "El error en norma infinito es:  0.16678757722874116\n"
     ]
    }
   ],
   "source": [
    "aux = np.linspace(a, b, 1000)\n",
    "\n",
    "# Definimos el máximo inicial como el primer valor que puede tomar DI en valor absoluto.\n",
    "maximoDI = abs(DI(aux[0]))\n",
    "\n",
    "# Vamos comprobando cada valor que toma DI en valor absoluto en la partición de puntos aux y nos quedamos con el\n",
    "# que tome el valor mas alto.\n",
    "for i in aux:\n",
    "    if abs(DI(i)) > maximoDI:\n",
    "        maximoDI = abs(DI(i))\n",
    "        \n",
    "print('El error en norma infinito es: ',maximoDI)"
   ]
  },
  {
   "cell_type": "markdown",
   "metadata": {},
   "source": [
    "Comprobamos que se cumple la cota."
   ]
  },
  {
   "cell_type": "code",
   "execution_count": 10,
   "metadata": {},
   "outputs": [
    {
     "data": {
      "text/plain": [
       "True"
      ]
     },
     "execution_count": 10,
     "metadata": {},
     "output_type": "execute_result"
    }
   ],
   "source": [
    "maximoDI < Cota "
   ]
  },
  {
   "cell_type": "markdown",
   "metadata": {},
   "source": [
    "## Tema 3: Integración numérica."
   ]
  },
  {
   "cell_type": "markdown",
   "metadata": {},
   "source": [
    "### Desarrollese la fórmula de cuadratura de los trapecios en el intervalo $[0, \\pi]$, asi como su expresión de error. Usando la expresión del error obtenida, determinar el número de subintevalos necesarios para aproximar la siguiente integral con un error menor que $\\epsilon = 1 * 10^{-7}$ : \n",
    "\n",
    "$$\\int_{0}^{\\pi} (sen x + cos x)^2 dx$$"
   ]
  },
  {
   "cell_type": "markdown",
   "metadata": {},
   "source": [
    "#### $\\bullet$ Desarrollo de la fórmula de cuadratura de los trapecios."
   ]
  },
  {
   "cell_type": "markdown",
   "metadata": {},
   "source": [
    "Sea $f(x) = (sen x + cos x)^2$ una funcion tal que $f \\in C^2([0, \\pi])$."
   ]
  },
  {
   "cell_type": "markdown",
   "metadata": {},
   "source": [
    "La fórmula de cuadratura de los trapecios es una fórmula de cuadratura cerrada con dos nodos. Tomando el intervalo propuesto $[0, \\pi]$ se tendría que:\n",
    "\n",
    "$$ \\int_{0}^{\\pi} f(x) dx = \\frac{h}{2} (f(0) + f(\\pi)) - \\frac{h^3}{12}f''(\\xi)$$"
   ]
  },
  {
   "cell_type": "markdown",
   "metadata": {},
   "source": [
    "Donde $\\xi \\in [0, \\pi]$ y $h = \\pi-0 = \\pi$ .En el caso de una fórmula compuesta, dividimos el intervalo $[0, \\pi]$ en $N$ subintervalos   y en cada uno de ellos aplicamos la f.c anterior."
   ]
  },
  {
   "cell_type": "markdown",
   "metadata": {},
   "source": [
    "En el caso de la fórmula compuesta del trapecio, los nodos de cuadratura coincidirán con los extremos de los $N$ subintervalos."
   ]
  },
  {
   "cell_type": "markdown",
   "metadata": {},
   "source": [
    "Sean pues los extremos de un subintervalo cualesquiera $x_i$ y $x_{i+1}$, entonces $h = x_{i+1} - x_i = \\frac{\\pi}{N}$ y sustituyendo en la expresión anterior $[0, \\pi]$ por $[x_i, x_{i+1}]$ se obtiene una primera expresión de la fórmula de cuadratura de los trapecios:"
   ]
  },
  {
   "cell_type": "markdown",
   "metadata": {},
   "source": [
    "$$\\int_{0}^{\\pi} f(x) dx = \\sum_{i=0}^{N-1} \\int_{x_i}^{x_{i+1}} f(x) dx = \\frac{h}{2}\\sum_{i=0}^{N-1} (f(x_i) + f(x_{i+1})) - \\frac{h^3}{12}\\sum_{i=0}^{N-1} f''(\\xi_i) $$"
   ]
  },
  {
   "cell_type": "markdown",
   "metadata": {},
   "source": [
    "Donde $\\xi \\in [x_i, x_{i+1}]$"
   ]
  },
  {
   "cell_type": "markdown",
   "metadata": {},
   "source": [
    "Ahora se verá que el último sumatorio, el cual se corresponde con la expresión del error, puede ser eliminado. Esto ocurre dado que:"
   ]
  },
  {
   "cell_type": "markdown",
   "metadata": {},
   "source": [
    "$$  m \\leq \\frac{1}{N}\\sum_{i=0}^{N-1} f''(\\xi_i)\\leq M $$\n"
   ]
  },
  {
   "cell_type": "markdown",
   "metadata": {},
   "source": [
    "Siendo $m = min_{x \\in [0, \\pi]} |f''(x)|$ y $M = max_{x \\in [0, \\pi]} |f''(x)|$ . Por ser $f''$ continua por hipótesis, alcanzará todos los valores entre $m$ y $M$, luego existirá algun $\\xi \\in [0, \\pi]$ tal que:"
   ]
  },
  {
   "cell_type": "markdown",
   "metadata": {},
   "source": [
    "$$ f''(\\xi) = \\frac{1}{N}\\sum_{i=0}^{N-1} f''(\\xi_i)  $$"
   ]
  },
  {
   "cell_type": "markdown",
   "metadata": {},
   "source": [
    "Por lo tanto:\n"
   ]
  },
  {
   "cell_type": "markdown",
   "metadata": {},
   "source": [
    "$$ \\sum_{i=0}^{N-1} f''(\\xi_i) = N f''(\\xi) = \\frac{\\pi}{h}f''(\\xi) $$"
   ]
  },
  {
   "cell_type": "markdown",
   "metadata": {},
   "source": [
    "Ergo, sustituyendo en la anterior expresión de la fórmula de cuadratura compuesta de los trapecios se concluye que dicha fórmula puede ser expresada de la forma:"
   ]
  },
  {
   "cell_type": "markdown",
   "metadata": {},
   "source": [
    "$$\\int_{0}^{\\pi} f(x) dx = \\sum_{i=0}^{N-1} \\int_{x_i}^{x_{i+1}} f(x) = \\frac{h}{2}\\sum_{i=0}^{N-1} (f(x_i) + f(x_{i+1})) - \\frac{\\pi\\, h^2}{12}f''(\\xi) $$"
   ]
  },
  {
   "cell_type": "markdown",
   "metadata": {},
   "source": [
    "Con $\\xi \\in [0, \\pi].$"
   ]
  },
  {
   "cell_type": "markdown",
   "metadata": {},
   "source": [
    "#### $\\bullet$ Cálculo del número de subintervalos para obtener un error menor que $\\epsilon$ "
   ]
  },
  {
   "cell_type": "markdown",
   "metadata": {},
   "source": [
    "Dado que ya se conoce la expresion del error para cualquier $f$ en el intervalo $[0, \\pi]$, ahora se intentará acotar el error tomando el máximo de $f''$. Sea pues:"
   ]
  },
  {
   "cell_type": "markdown",
   "metadata": {},
   "source": [
    "$$|E_N(f)| \\leq \\frac{\\pi\\, h^2}{12}max_{x \\in [0, \\pi]} |f''(x)|$$"
   ]
  },
  {
   "cell_type": "markdown",
   "metadata": {},
   "source": [
    "Se estudiará la expresión de $f''$ para intentar hallar el máximo en $[0, \\pi]$:"
   ]
  },
  {
   "cell_type": "markdown",
   "metadata": {},
   "source": [
    "$\\bullet$ $f'(x) = 2cos^2(x) - 2sin^2(x) = 2cos(2x)$"
   ]
  },
  {
   "cell_type": "markdown",
   "metadata": {},
   "source": [
    "$\\bullet$ $f''(x) = -4sin(2x) $"
   ]
  },
  {
   "cell_type": "markdown",
   "metadata": {},
   "source": [
    "Se verá como se comporta graficamente la segunda derivada:"
   ]
  },
  {
   "cell_type": "code",
   "execution_count": 11,
   "metadata": {},
   "outputs": [],
   "source": [
    "f = lambda x: (np.sin(x) + np.cos(x))**2\n",
    "d2f = lambda x: -4 * np.sin(2*x)\n",
    "x = np.linspace (0, np.pi, 2000)\n",
    "d2fx = d2f(x)"
   ]
  },
  {
   "cell_type": "code",
   "execution_count": 12,
   "metadata": {},
   "outputs": [
    {
     "data": {
      "text/plain": [
       "<matplotlib.lines.Line2D at 0x221a63cb5f8>"
      ]
     },
     "execution_count": 12,
     "metadata": {},
     "output_type": "execute_result"
    },
    {
     "data": {
      "image/png": "[encoded data removed]",
      "text/plain": [
       "<Figure size 432x288 with 1 Axes>"
      ]
     },
     "metadata": {
      "needs_background": "light"
     },
     "output_type": "display_data"
    }
   ],
   "source": [
    "#representación de f\n",
    "plot(x, d2fx, \"-\", c=\"orange\", label= \"$d2f$\")\n",
    "#inclusión de cuadrículas y ejes para mejor visualización\n",
    "grid()\n",
    "legend(prop = {'size': 12})\n",
    "axhline(c=\"black\")\n",
    "axvline(c=\"black\")"
   ]
  },
  {
   "cell_type": "markdown",
   "metadata": {},
   "source": [
    "Dado que $-1\\leq sin(2x) \\leq 1$, se obtendrá que $-4\\leq -4sin(2x) \\leq 4$. Ergo el máximo de la segunda derivada será $M = 4$, tal y como se puede observar en la gráfica."
   ]
  },
  {
   "cell_type": "markdown",
   "metadata": {},
   "source": [
    "Luego la cota del error quedaría como:"
   ]
  },
  {
   "cell_type": "markdown",
   "metadata": {},
   "source": [
    "$$|E_N(f)| \\leq 4\\frac{\\pi\\, h^2}{12}$$"
   ]
  },
  {
   "cell_type": "markdown",
   "metadata": {},
   "source": [
    "Por tanto para que el error sea menor que $\\epsilon$ bastará con que: $4\\frac{\\pi\\, h^2}{12} = \\epsilon$."
   ]
  },
  {
   "cell_type": "markdown",
   "metadata": {},
   "source": [
    "Multiplicando ambas igualdades por $3$, dividiendo por $\\pi$ y aplicando la raíz cuadrada se obtiene que:"
   ]
  },
  {
   "cell_type": "code",
   "execution_count": 13,
   "metadata": {},
   "outputs": [
    {
     "name": "stdout",
     "output_type": "stream",
     "text": [
      "El valor de h es:  0.0003090193616185517\n"
     ]
    }
   ],
   "source": [
    "h = np.sqrt((3*1.e-7)/np.pi)\n",
    "print('El valor de h es: ',h)"
   ]
  },
  {
   "cell_type": "markdown",
   "metadata": {},
   "source": [
    "Finalmente, dado que $N = \\frac{\\pi}{h}$ se obtiene que:"
   ]
  },
  {
   "cell_type": "code",
   "execution_count": 14,
   "metadata": {},
   "outputs": [
    {
     "name": "stdout",
     "output_type": "stream",
     "text": [
      "El valor de N es:  10166.329504840938\n"
     ]
    }
   ],
   "source": [
    "N = np.pi/h\n",
    "print('El valor de N es: ',N)"
   ]
  },
  {
   "cell_type": "markdown",
   "metadata": {},
   "source": [
    "Luego serán necesarios unos $10167$ subintervalos para que el error teórico estimado sea menor que el $\\epsilon$ propuesto. A continuación se hará uso de la biblioteca para ver que error se estima para las fórmulas de cuadratura compuesta del punto medio, de los trapecios y del punto medio comparando el resultado con el proporcionado por la función `quad` del módulo `scipy.integrate`."
   ]
  },
  {
   "cell_type": "code",
   "execution_count": 15,
   "metadata": {},
   "outputs": [],
   "source": [
    "cuadrar = Cuadratura(f = f, a = 0, b = np.pi, er = True, N = 5000)"
   ]
  },
  {
   "cell_type": "code",
   "execution_count": 16,
   "metadata": {},
   "outputs": [
    {
     "data": {
      "image/png": "[encoded data removed]",
      "text/latex": [
       "$$\\left ( 3.141592653589793, \\quad 0.0\\right )$$"
      ],
      "text/plain": [
       "(3.141592653589793, 0.0)"
      ]
     },
     "execution_count": 16,
     "metadata": {},
     "output_type": "execute_result"
    }
   ],
   "source": [
    "cuadrar.PtomedioComp()"
   ]
  },
  {
   "cell_type": "code",
   "execution_count": 17,
   "metadata": {},
   "outputs": [
    {
     "data": {
      "image/png": "[encoded data removed]",
      "text/latex": [
       "$$\\left ( 3.141592653589793, \\quad 0.0\\right )$$"
      ],
      "text/plain": [
       "(3.141592653589793, 0.0)"
      ]
     },
     "execution_count": 17,
     "metadata": {},
     "output_type": "execute_result"
    }
   ],
   "source": [
    "cuadrar.TrapecioComp()"
   ]
  },
  {
   "cell_type": "code",
   "execution_count": 18,
   "metadata": {},
   "outputs": [
    {
     "data": {
      "image/png": "[encoded data removed]",
      "text/latex": [
       "$$\\left ( 3.141592653589793, \\quad 0.0\\right )$$"
      ],
      "text/plain": [
       "(3.141592653589793, 0.0)"
      ]
     },
     "execution_count": 18,
     "metadata": {},
     "output_type": "execute_result"
    }
   ],
   "source": [
    "cuadrar.SimpsonComp()"
   ]
  },
  {
   "cell_type": "code",
   "execution_count": 19,
   "metadata": {},
   "outputs": [
    {
     "data": {
      "image/png": "[encoded data removed]",
      "text/latex": [
       "$$\\left ( 3.141592653589793, \\quad 3.487868498008632e-14\\right )$$"
      ],
      "text/plain": [
       "(3.141592653589793, 3.487868498008632e-14)"
      ]
     },
     "execution_count": 19,
     "metadata": {},
     "output_type": "execute_result"
    }
   ],
   "source": [
    "quad(f, 0, np.pi)"
   ]
  },
  {
   "cell_type": "markdown",
   "metadata": {},
   "source": [
    "## Tema 4: Problemas de valor inicial para ecuaciones diferenciales de primer orden"
   ]
  },
  {
   "cell_type": "markdown",
   "metadata": {},
   "source": [
    "### Consideremos el método de Crank-Nicolson definido de la siguiente forma:"
   ]
  },
  {
   "cell_type": "markdown",
   "metadata": {},
   "source": [
    "$$\\begin{equation*}\n",
    "    \\left\\{\n",
    "        \\begin{array}{ll}\n",
    "            y_{0} = y_{a},\\\\\n",
    "            y_{n+1} = y_{n} + \\frac{h}{2} [{f(t_{n},y_{n})+f(t_{n+1},y_{n+1})] }\n",
    "        \\end{array}\n",
    "    \\right.\n",
    "\\end{equation*}$$"
   ]
  },
  {
   "cell_type": "markdown",
   "metadata": {},
   "source": [
    "### Dado $a>0$, consideramos el siguiente problema de valor inicial:"
   ]
  },
  {
   "cell_type": "markdown",
   "metadata": {},
   "source": [
    "$$\\begin{equation*}\n",
    "    \\left\\{\n",
    "        \\begin{array}{ll}\n",
    "            y' = ay,\\\\\n",
    "            y(0) = 1\n",
    "        \\end{array}\n",
    "    \\right.\n",
    "\\end{equation*}$$"
   ]
  },
  {
   "cell_type": "markdown",
   "metadata": {},
   "source": [
    "#### Apartado 1:\n",
    "Calcular las dos primeras iteraciones del método de Crank-Nicolson. Generalizarlas para obtener explícitamente el valor de $y_{n}$, para cualquier $n \\in \\mathbb{R}$."
   ]
  },
  {
   "cell_type": "markdown",
   "metadata": {},
   "source": [
    "Sea $y' = f(t,y)$, se tiene que para este problema es: $f(t,y) = ay$. Empezamos calculando una fórmula explícita para hallar $y_{n}$:"
   ]
  },
  {
   "cell_type": "markdown",
   "metadata": {},
   "source": [
    "$$y_{n+1} = y_{n} + \\frac{h}{2}(ay_{n}+ay_{n+1}) \\Longleftrightarrow y_{n+1} = y_{n} + \\frac{h}{2}ay_{n} + \\frac{h}{2}ay_{n+1} \\Longleftrightarrow y_{n+1} - \\frac{h}{2}ay_{n+1} = y_{n} + \\frac{h}{2}ay_{n} \\Longleftrightarrow y_{n+1} \\left(1 - \\frac{h}{2}a \\right) = y_{n} \\left(1 + \\frac{h}{2}a \\right) \\Longleftrightarrow y_{n+1} = y_{n} \\left(\\frac{1 + \\frac{h}{2}a}{1 - \\frac{h}{2}a} \\right)$$"
   ]
  },
  {
   "cell_type": "markdown",
   "metadata": {},
   "source": [
    "Partiendo de $y_{0} = 1$ calculamos las dos primeras iteraciones:"
   ]
  },
  {
   "cell_type": "markdown",
   "metadata": {},
   "source": [
    "$$y_{1} = y_{0} \\left(\\frac{1 + \\frac{h}{2}a}{1 - \\frac{h}{2}a} \\right) = \\frac{1 + \\frac{h}{2}a}{1 - \\frac{h}{2}a} = \\frac{\\frac{2+ha}{2}}{\\frac{2-ha}{2}} = \\frac{2+ha}{2-ha}$$"
   ]
  },
  {
   "cell_type": "markdown",
   "metadata": {},
   "source": [
    "$$y_{2} = y_{1} \\left(\\frac{1 + \\frac{h}{2}a}{1 - \\frac{h}{2}a} \\right) = y_{1} \\left(\\frac{1 + \\frac{h}{2}a}{1 - \\frac{h}{2}a} \\right) = y_{1} \\left(\\frac{\\frac{2+ha}{2}}{\\frac{2-ha}{2}} \\right) = \\left(\\frac{2+ha}{2-ha} \\right) \\left(\\frac{2+ha}{2-ha} \\right) = \\left(\\frac{2+ha}{2-ha} \\right)^{2}$$"
   ]
  },
  {
   "cell_type": "markdown",
   "metadata": {},
   "source": [
    "Para generalizar la expresión de $y_{n}$, vamos a probar que $y_{n} = \\left(\\frac{2+ha}{2-ha} \\right)^{n}$."
   ]
  },
  {
   "cell_type": "markdown",
   "metadata": {},
   "source": [
    "Lo demostramospor inducción:\n",
    "\n",
    "$1)$ Ya hemos visto que $y_{1} = \\frac{2+ha}{2-ha}$\n",
    "\n",
    "$2)$ Suponiendo como cierto que $y_{n} = \\left(\\frac{2+ha}{2-ha} \\right)^{n}$, debería ser que $y_{n+1} = \\left(\\frac{2+ha}{2-ha} \\right)^{n+1}$:"
   ]
  },
  {
   "cell_type": "markdown",
   "metadata": {},
   "source": [
    "$$y_{n+1} = y_{n} \\left(\\frac{1 + \\frac{h}{2}a}{1 - \\frac{h}{2}a} \\right) = y_{n} \\left(\\frac{1 + \\frac{h}{2}a}{1 - \\frac{h}{2}a} \\right) = y_{n} \\left(\\frac{\\frac{2+ha}{2}}{\\frac{2-ha}{2}} \\right) = \\left(\\frac{2+ha}{2-ha} \\right)^{n} \\left(\\frac{2+ha}{2-ha} \\right) = \\left(\\frac{2+ha}{2-ha} \\right)^{n+1} \\square$$"
   ]
  },
  {
   "cell_type": "markdown",
   "metadata": {},
   "source": [
    "#### Apartado 2:\n",
    "Indicar cuál es el mayor valor $h^{*}>0$ tal que el método de de Crank-Nicolson está bien definido para todo $h \\in (0,h^{*})$. ¿Qué ocurriría si $h \\in (h^{*}, \\infty)$?"
   ]
  },
  {
   "cell_type": "markdown",
   "metadata": {},
   "source": [
    "Sea $y = e^{ax}$, se tiene que:\n",
    "\n",
    "$1)$ $y' = ae^{ax}$, es decir, $y' = ay$.\n",
    "\n",
    "$2)$ $y(0) = e^{a \\cdot 0} = 1$\n",
    "\n",
    "Por lo tanto, $y = e^{ax}$ es la solución exacta del problema, y se tiene que $e^{ax}>0 \\quad \\forall x \\in \\mathbb{R}$. Teniendo en cuenta que $y_{n} = \\left(\\frac{2+ha}{2-ha} \\right)^{n}$, debe verificarse que $y_{n} > 0$. Es fácil ver que si $h = \\frac{2}{a}$, entonces $2 - ha = 2- \\frac{2}{a}a = 0$, lo que anula el denominador, por tanto $h \\neq \\frac{2}{a}$. Para que la sucesión $\\{y_{n} \\}$ no sea oscilante, debe verificarse que $\\frac{2+ha}{2-ha} >0$, y como $h>0$ y $a>0$, debe ser entonces que $2-ha>0 \\Longleftrightarrow 2>ha \\Longleftrightarrow h< \\frac{2}{a}$. Por lo tanto, para $h^{*} = \\frac{2}{a}$, el método de Crank-Nicolson está bien definido para todo $h \\in (0,h^{*})$. En caso contrario, la sucesión $\\{y_{n} \\}$ sería oscilante, lo que no es cierto para la solución exacta, y por tanto el método no estaría bien definido."
   ]
  },
  {
   "cell_type": "markdown",
   "metadata": {},
   "source": [
    "#### Apartado 3:\n",
    "Verificar los resultados anteriores y comparar el método de Crank-Nicolson Con los métodos de Euler, Runge Kutta y Adams-Bashforth."
   ]
  },
  {
   "cell_type": "markdown",
   "metadata": {},
   "source": [
    "Empezamos definiendo una función que implemente el método de Crank-Nicolson, específico para nuestro problema:"
   ]
  },
  {
   "cell_type": "code",
   "execution_count": 20,
   "metadata": {},
   "outputs": [],
   "source": [
    "def Crank_Nicolson(a, b, h, a1, y0):\n",
    "    \n",
    "    if a>b or h<0 or a1<0: # No imponemos h<(a1/2) para poder reutilizarla.\n",
    "        \n",
    "        print('Error en los parámetros de entrada.')\n",
    "        return\n",
    "        \n",
    "    N = int( round ((b-a)/h))\n",
    "    lista_t = linspace(a, b, N+1)\n",
    "    sol = [y0]\n",
    "    \n",
    "    for i in range (N):\n",
    "        \n",
    "        yn_1 = ((2 + h*a1)/(2 - h*a1))\n",
    "        ex = i+1\n",
    "        yn = yn_1**ex\n",
    "        sol.append(yn)\n",
    "        \n",
    "    return lista_t, sol"
   ]
  },
  {
   "cell_type": "markdown",
   "metadata": {},
   "source": [
    "Utilizaremos para nuestro ejemplo $a=10$, así que $\\frac{2}{10} = 0.2$, por lo que calcularemos la solución por el método de Crank-Nicolson para $h=0.05<0.2$ (el método está bien definido) y para $h=0.25>0.2$ (el método no está bien definido), en el intervalo $[a,b] = [0,1]$."
   ]
  },
  {
   "cell_type": "code",
   "execution_count": 21,
   "metadata": {},
   "outputs": [],
   "source": [
    "lista_t, sol_cn = Crank_Nicolson(0, 1, 0.05, 10, 1)\n",
    "lista, sol_cn_2 = Crank_Nicolson(0, 1, 0.25, 10, 1)"
   ]
  },
  {
   "cell_type": "markdown",
   "metadata": {},
   "source": [
    "Definimos a continuación la función que es solución exacta de nuestro problema para poder comparar:"
   ]
  },
  {
   "cell_type": "code",
   "execution_count": 22,
   "metadata": {},
   "outputs": [],
   "source": [
    "f = lambda x: exp(10*x)"
   ]
  },
  {
   "cell_type": "markdown",
   "metadata": {},
   "source": [
    "Mostramos la solución exacta en el intervalo $[0,1]$ junto a las soluciones calculadas:"
   ]
  },
  {
   "cell_type": "code",
   "execution_count": 23,
   "metadata": {},
   "outputs": [
    {
     "data": {
      "image/png": "[encoded data removed]",
      "text/plain": [
       "<Figure size 432x288 with 1 Axes>"
      ]
     },
     "metadata": {
      "needs_background": "light"
     },
     "output_type": "display_data"
    }
   ],
   "source": [
    "plot(lista_t, f(lista_t), lw=2, label=u'Solución exacta')\n",
    "plot(lista_t, sol_cn, 'o', c='red', label='Crank-Nicolson paso ' + str(0.1))\n",
    "plot(lista, sol_cn_2, 'o', c='green', label='Crank-Nicolson paso ' + str(0.3))\n",
    "legend(loc='best')\n",
    "grid()"
   ]
  },
  {
   "cell_type": "code",
   "execution_count": 24,
   "metadata": {},
   "outputs": [
    {
     "data": {
      "image/png": "[encoded data removed]",
      "text/plain": [
       "<Figure size 432x288 with 1 Axes>"
      ]
     },
     "metadata": {
      "needs_background": "light"
     },
     "output_type": "display_data"
    }
   ],
   "source": [
    "plot(lista_t, f(lista_t), lw=2, label=u'Solución exacta')\n",
    "plot(lista_t, sol_cn, 'o', c='red', label='Crank-Nicolson paso ' + str(0.1))\n",
    "plot(lista, sol_cn_2, '-', c='green', label='Crank-Nicolson paso ' + str(0.3))\n",
    "ylim(-900, 800)\n",
    "legend(loc='best')\n",
    "grid()"
   ]
  },
  {
   "cell_type": "markdown",
   "metadata": {},
   "source": [
    "Donde se puede ver que el método de Crank-Nicolson aproxima la solución cuando $h< \\frac{2}{a}$."
   ]
  },
  {
   "cell_type": "markdown",
   "metadata": {},
   "source": [
    "Por último, utilizamos la Biblioteca para calcular la solución mediante los métodos de Euler, Runge Kutta y Adams-Bashforth. Empezamos definiendo la función de dos variables que vamos a utilizar:"
   ]
  },
  {
   "cell_type": "code",
   "execution_count": 25,
   "metadata": {},
   "outputs": [],
   "source": [
    "def g(t, y): return 10*y"
   ]
  },
  {
   "cell_type": "markdown",
   "metadata": {},
   "source": [
    "Creamos el objeto y lo dotamos con los datos del problema:"
   ]
  },
  {
   "cell_type": "code",
   "execution_count": 26,
   "metadata": {},
   "outputs": [],
   "source": [
    "pvi = EDO_PVI(f = g, x0 = 1, a = 0, b = 1, h = 0.05, sol = True)"
   ]
  },
  {
   "cell_type": "markdown",
   "metadata": {},
   "source": [
    "Calculamos las soluciones mediantes los distintos métodos y sacamos los puntos para las gráficas:"
   ]
  },
  {
   "cell_type": "code",
   "execution_count": 27,
   "metadata": {},
   "outputs": [],
   "source": [
    "e = pvi.Euler()\n",
    "euler = max(e)\n",
    "r = pvi.Runge_Kutta()\n",
    "rg = max(r)\n",
    "ab = pvi.Adams_Bashforth()\n",
    "adams = max(ab)"
   ]
  },
  {
   "cell_type": "markdown",
   "metadata": {},
   "source": [
    "Mostramos las soluciones de los distintos métodos junto a la del método de Crank-Nicolson:"
   ]
  },
  {
   "cell_type": "code",
   "execution_count": 28,
   "metadata": {},
   "outputs": [
    {
     "data": {
      "image/png": "[encoded data removed]",
      "text/plain": [
       "<Figure size 432x288 with 1 Axes>"
      ]
     },
     "metadata": {
      "needs_background": "light"
     },
     "output_type": "display_data"
    }
   ],
   "source": [
    "plot(lista_t, f(lista_t), c='gray', lw=2, label=u'Solución exacta')\n",
    "plot(lista_t, sol_cn, 'o', c='teal', label='Crank-Nicolson' + str(0.1))\n",
    "plot(lista_t, euler, 'o', c='red', label='Euler paso ' + str(0.1))\n",
    "plot(lista_t, rg, 'o', c='green', label='Runge Kutta paso ' + str(0.1))\n",
    "plot(lista_t, adams, 'o', c='orange', label='Adams-Bashforth paso ' + str(0.1))\n",
    "legend(loc='best')\n",
    "grid()"
   ]
  },
  {
   "cell_type": "markdown",
   "metadata": {},
   "source": [
    "Como se puede observar para el intervalo escogido, mientras que los métodos de Euler y Adams-Bashforth son menos eficaces que Crank-Nicolson para este problema, el método de Runge Kutta es el que más se aproxima a la solución exacta."
   ]
  },
  {
   "cell_type": "markdown",
   "metadata": {},
   "source": [
    "## Tema 5: Sistemas de dos ecuaciones y ecuaciones de segundo orden."
   ]
  },
  {
   "cell_type": "markdown",
   "metadata": {},
   "source": [
    "Sea $x^2 y'' + xy' + (x^2 - 4)y = 0 $ una ecuación de Bessel. Transformando esta ecuación de orden $2$ en un sistema de $2$ ecuaciones de orden $1$, tenemos las funciones:\n",
    "\n",
    "$$\n",
    "f^1(x, y_1, y_2) = y_2,  \\\\\n",
    "f^2(x, y_1, y_2) = \\frac{-xy_2 - (x^2 - 4)y_1}{x^2}.\n",
    "$$\n",
    "\n",
    "Definiendo ahora $t := x$, $x := y_1$ e $y := y_2$ para tener las ecuaciones de la forma que nos interesa tenermos:\n",
    "\n",
    "$$\n",
    "f(t, x, y) = y, \\\\\n",
    "g(t, x, y) = \\frac{-ty - (t^2 - 4)x}{t^2}.\n",
    "$$\n",
    "\n",
    "Intentemos resolver este sistema, en el intervalo $[1, 10]$, mediante los métodos de Euler, Euler-Cauchy, Heunn y Runge-Kutta.\n",
    "\n",
    "La ecuación se Bessel tiene dos posibles soluciones, primer y segundo tipo, para asegurarnos de que obtenemos una de estas soluciones y no una combinación de ambas consideramos el problema de valores iniciales que nos asegure esto, para ello los obtenemos de la siguiente forma:"
   ]
  },
  {
   "cell_type": "code",
   "execution_count": 29,
   "metadata": {},
   "outputs": [
    {
     "name": "stdout",
     "output_type": "stream",
     "text": [
      "El valor inicial x0 es:  0.1149034849319005\n",
      "El valor inicial y0 es:  0.21024361588113258\n"
     ]
    }
   ],
   "source": [
    "# Sacamos las puntos que definen la solución de la ecuación de Bessel a traves de la función jv definida en el módulo scipy.special.\n",
    "# Su primer valor será el valor inicial x0.\n",
    "x = np.linspace(1, 20, 70)\n",
    "x0 = spl.jv(2, x)[0]\n",
    "\n",
    "# Sacamos también los puntos que definen la derivada con la función jvp en el mismo módulo.\n",
    "# Su primer valor será el valor inicial y0.\n",
    "y0 = spl.jvp(2, x, 1)[0]\n",
    "\n",
    "print('El valor inicial x0 es: ', x0)\n",
    "print('El valor inicial y0 es: ', y0)"
   ]
  },
  {
   "cell_type": "code",
   "execution_count": 30,
   "metadata": {},
   "outputs": [],
   "source": [
    "# Definimos las funciones:\n",
    "f = lambda t, x, y: y\n",
    "g = lambda t, x, y: (-t*y - (t**2 - 4)*x)/(t**2)\n",
    "\n",
    "# Definimos el vector de instantes t:\n",
    "t = np.linspace(1, 20, 70)"
   ]
  },
  {
   "cell_type": "markdown",
   "metadata": {},
   "source": [
    "Sacamos las distintas soluciones dadas por los métodos:"
   ]
  },
  {
   "cell_type": "code",
   "execution_count": 31,
   "metadata": {},
   "outputs": [],
   "source": [
    "Sol = EDO_Sistemas(f, g, x0, y0, t)"
   ]
  },
  {
   "cell_type": "code",
   "execution_count": 32,
   "metadata": {},
   "outputs": [],
   "source": [
    "sol_Euler = Sol.Euler()"
   ]
  },
  {
   "cell_type": "code",
   "execution_count": 33,
   "metadata": {},
   "outputs": [],
   "source": [
    "sol_Euler_Cauchy = Sol.Euler_Cauchy()"
   ]
  },
  {
   "cell_type": "code",
   "execution_count": 34,
   "metadata": {},
   "outputs": [],
   "source": [
    "sol_Heunn = Sol.Heunn()"
   ]
  },
  {
   "cell_type": "code",
   "execution_count": 35,
   "metadata": {},
   "outputs": [],
   "source": [
    "sol_Runge_Kutta = Sol.Runge_Kutta()"
   ]
  },
  {
   "cell_type": "markdown",
   "metadata": {},
   "source": [
    "Sacamos la solución dada por Python:"
   ]
  },
  {
   "cell_type": "code",
   "execution_count": 36,
   "metadata": {},
   "outputs": [],
   "source": [
    "sol_Bessel = spl.jv(2, x)"
   ]
  },
  {
   "cell_type": "markdown",
   "metadata": {},
   "source": [
    "Ahora tenemos los puntos que definen la solución de Bessel, dada por Python, y los comparamos con los primeros puntos dados por los métodos, ya que estos representan la solución a la ecuación."
   ]
  },
  {
   "cell_type": "code",
   "execution_count": 37,
   "metadata": {},
   "outputs": [
    {
     "data": {
      "image/png": "[encoded data removed]",
      "text/plain": [
       "<Figure size 720x360 with 1 Axes>"
      ]
     },
     "metadata": {
      "needs_background": "light"
     },
     "output_type": "display_data"
    }
   ],
   "source": [
    "figure(figsize=(10, 5))\n",
    "plot(t, sol_Bessel, '-', c = 'gray', label = 'Ecuación exacta')\n",
    "plot(t, sol_Euler[0], '.', c = 'red', label = 'Euler')\n",
    "plot(t, sol_Euler_Cauchy[0], '.', c = 'darkorange', label = 'Euler-Cauchy')\n",
    "plot(t, sol_Heunn[0], '.', c = 'lime', label = 'Heunn')\n",
    "plot(t, sol_Runge_Kutta[0], '.', c = 'teal', label = 'Runge-Kutta')\n",
    "legend()\n",
    "grid()"
   ]
  },
  {
   "cell_type": "markdown",
   "metadata": {},
   "source": [
    "Todos los métodos tienen una aproximación exacta a la solución, mientras que Euler se aleja cada vez mas de la solución exacta."
   ]
  },
  {
   "cell_type": "markdown",
   "metadata": {},
   "source": [
    "Trabajo realizado por:\n",
    "   * B. B., Esteban.\n",
    "   * C. P., Manuel.\n",
    "   * C. H., Juan Luis.\n",
    "   * V. R., Paula."
   ]
  }
 ],
 "metadata": {
  "kernelspec": {
   "display_name": "Python 3",
   "language": "python",
   "name": "python3"
  },
  "language_info": {
   "codemirror_mode": {
    "name": "ipython",
    "version": 3
   },
   "file_extension": ".py",
   "mimetype": "text/x-python",
   "name": "python",
   "nbconvert_exporter": "python",
   "pygments_lexer": "ipython3",
   "version": "3.7.1"
  }
 },
 "nbformat": 4,
 "nbformat_minor": 2
}
